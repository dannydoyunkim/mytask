{
 "cells": [
  {
   "cell_type": "code",
   "execution_count": 1,
   "metadata": {},
   "outputs": [],
   "source": [
    "# Multi-layer Perception 풀어보기 (page. 154)\n",
    "# 입력값 x1, x2 / 그리고 h1, h2 함수 / 그리고 y 함수를 만들어야 한다.\n",
    "# 함수 3개 만들기"
   ]
  },
  {
   "cell_type": "code",
   "execution_count": 2,
   "metadata": {},
   "outputs": [],
   "source": [
    "import numpy as np\n",
    "import pandas as pd"
   ]
  },
  {
   "cell_type": "code",
   "execution_count": 10,
   "metadata": {},
   "outputs": [],
   "source": [
    "def h1(x1,x2) :\n",
    "    temp = 20*x1 + 20*x2 - 10\n",
    "    if temp >= 10 :\n",
    "        result = 1\n",
    "    else :\n",
    "        result = 0\n",
    "    \n",
    "    return result\n",
    "\n",
    "#다른 방법\n",
    "# return min(max(temp,0),1)\n",
    "# Activiation Function은 Threshold 값을 넘으면 신호(1)을 출력하는 방식임\n",
    "# 또는 sigmoid(res) = 1 / ( 1 + math.exp(-x)) 로 정의하고나서 이를 결과값으로 확인하는 식으로 하면 Sigmoid 방식으로 구할 수 있음\n"
   ]
  },
  {
   "cell_type": "code",
   "execution_count": 11,
   "metadata": {},
   "outputs": [],
   "source": [
    "def h2(x1, x2) :\n",
    "    temp = -20*x1 - 20*x2 + 30\n",
    "    \n",
    "    if temp >= 0 :\n",
    "        result = 1\n",
    "    else :\n",
    "        result = 0\n",
    "        \n",
    "    return result"
   ]
  },
  {
   "cell_type": "code",
   "execution_count": 12,
   "metadata": {},
   "outputs": [],
   "source": [
    "def y(h1, h2) :\n",
    "    temp = 20*h1 + 20*h2 -30\n",
    "    \n",
    "    if temp >= 0 :\n",
    "        result = 1\n",
    "    else :\n",
    "        result = 0\n",
    "    \n",
    "    return result"
   ]
  },
  {
   "cell_type": "code",
   "execution_count": 26,
   "metadata": {},
   "outputs": [
    {
     "name": "stdout",
     "output_type": "stream",
     "text": [
      "x1=0, x2=0, h1=0, h2=1, y=0\n",
      "x1=0, x2=1, h1=1, h2=1, y=1\n",
      "x1=1, x2=0, h1=1, h2=1, y=1\n",
      "x1=1, x2=1, h1=1, h2=0, y=0\n"
     ]
    }
   ],
   "source": [
    "# x1, x2 데이터 만들기 벡터로\n",
    "# 그전에 검증하기\n",
    "# print (\"x1 = 0, x2 = 0, h1 = %\", h1(0,0), h2(0,0),y(h1(0,0), h2(0,0))))\n",
    "print(\"x1={}, x2={}, h1={}, h2={}, y={}\".format(0,0,h1(0,0), h2(0,0),y(h1(0,0), h2(0,0))))\n",
    "print(\"x1={}, x2={}, h1={}, h2={}, y={}\".format(0,1,h1(0,1), h2(0,1),y(h1(0,1), h2(0,1))))\n",
    "print(\"x1={}, x2={}, h1={}, h2={}, y={}\".format(1,0,h1(1,0), h2(1,0),y(h1(1,0), h2(1,0))))\n",
    "print(\"x1={}, x2={}, h1={}, h2={}, y={}\".format(1,1,h1(1,1), h2(1,1),y(h1(1,1), h2(1,1))))"
   ]
  }
 ],
 "metadata": {
  "kernelspec": {
   "display_name": "Python 3",
   "language": "python",
   "name": "python3"
  },
  "language_info": {
   "codemirror_mode": {
    "name": "ipython",
    "version": 3
   },
   "file_extension": ".py",
   "mimetype": "text/x-python",
   "name": "python",
   "nbconvert_exporter": "python",
   "pygments_lexer": "ipython3",
   "version": "3.6.5"
  }
 },
 "nbformat": 4,
 "nbformat_minor": 2
}
